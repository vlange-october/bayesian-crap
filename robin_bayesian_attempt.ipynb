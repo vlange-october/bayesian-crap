{
 "cells": [
  {
   "cell_type": "code",
   "execution_count": 1,
   "id": "6a51c07d",
   "metadata": {},
   "outputs": [],
   "source": [
    "import pickle\n",
    "import random\n",
    "from sklearn.linear_model import LinearRegression\n",
    "\n",
    "import pandas as pd\n",
    "import seaborn as sns\n",
    "import networkx as nx\n",
    "import numpy as np\n",
    "\n",
    "from scipy.stats import beta\n",
    "\n",
    "import matplotlib.pyplot as plt\n",
    "\n",
    "from agents import hateAgent\n",
    "from misinfo_functions import (\n",
    "    generate_params_dict,\n",
    "    step_params_dict,\n",
    "    calc_energy,\n",
    "    acceptance_proba,\n",
    "    make_agent_info_dict,\n",
    "    update_agent_info,\n",
    "    choose_orientation,\n",
    "    getList_ofkeys,\n",
    ")\n",
    "from utilities import markov_update_log, make_configuration_model_graph\n",
    "\n",
    "from sklearn.model_selection import train_test_split\n"
   ]
  },
  {
   "cell_type": "code",
   "execution_count": 2,
   "id": "845f4de8",
   "metadata": {},
   "outputs": [],
   "source": [
    "\"\"\"\"\n",
    "Robin's hate attempt\n",
    "\n",
    "\n",
    "things I've added:\n",
    "hatefulness - similar to misinfo belief, its the hatefulness of beliefs that ppl have \n",
    "    goes from - 10 to pos 10 negative being having counter hateful beliefs\n",
    "\n",
    "shares_hate  - basically shares but for hatefulness, but people only share if they are hateful\n",
    "\n",
    "hate_orientation - basically if they are hateful (1), counter hateful (2) or neutral (0)\n",
    "removed exposed  \n",
    "\n",
    "to start off with i'll have 3% be hateful, 3% are counterhateful the rest will be nuetral 94%\n",
    "    - He. et al. (2021)\n",
    "\"\"\"\n",
    "\n",
    "\n",
    "\n",
    "def run_agent_simulation_now_with_added_hate(N_AGENTS, params_dict):\n",
    "    \"\"\"\n",
    "    Given a number of agents & parameters for constructing the simulation,\n",
    "    run a 100-round simulation of belief updating w/ Bayesian agents.\n",
    "    \n",
    "    Returns info on each agent's parameters, sharing for each agent each round, and centrality info for each agent.\n",
    "    \"\"\"\n",
    "    agents = []\n",
    "\n",
    "    hate_agents = params_dict[\"hate_agents\"]\n",
    "    counter_hate_agents = params_dict[\"counter_hate_agents\"]\n",
    "    \n",
    "    for i in range(N_AGENTS): # creats the start parameters for each of the agents \n",
    "        #each agent gets one of these \n",
    "        #if statements are so that hate agents start out hateful and counter hateful agents are not\n",
    "        if i in hate_agents:\n",
    "            agent = hateAgent(\n",
    "                agent_id=i,\n",
    "                neighbors={},\n",
    "                forcefulness=np.log(\n",
    "                    np.random.beta(params_dict[\"B1_START_FO\"], params_dict[\"B2_START_FO\"])\n",
    "                ),\n",
    "                share_propensity=np.log(\n",
    "                    np.random.beta(params_dict[\"B1_START_SP\"], params_dict[\"B2_START_SP\"])\n",
    "                ),\n",
    "                misinfo_belief=np.log(\n",
    "                    np.random.beta(params_dict[\"B1_START_MB\"], params_dict[\"B2_START_MB\"])\n",
    "                ),\n",
    "                trust_stability=np.log(\n",
    "                    np.random.beta(params_dict[\"B1_START_TS\"], params_dict[\"B2_START_TS\"])\n",
    "                ),\n",
    "                hatefulness=(\n",
    "                    np.random.uniform(params_dict[\"B1_START_Hate_Hatefulnes\"], params_dict[\"B2_START_Hate_Hatefulnes\"])\n",
    "                ),\n",
    "                hate_forcefulness = (\n",
    "                    np.random.uniform(params_dict[\"B1_START_Infectiousness_hate\"], params_dict[\"B2_START_Infectiousness_hate\"])\n",
    "                ),\n",
    "                counterhate_forcefulness = (\n",
    "                    np.random.uniform(params_dict[\"B1_START_Infectiousness_counter\"], params_dict[\"B2_START_Infectiousness_counter\"])\n",
    "                ),\n",
    "                hate_inhibited_forcefulness = (\n",
    "                    np.random.uniform(params_dict[\"B1_START_Infectiousness_hate_inhibited\"], params_dict[\"B2_START_Infectiousness_hate_inhibited\"])\n",
    "                ),\n",
    "                hate_orientation= choose_orientation(i, hate_agents,counter_hate_agents)\n",
    "            )\n",
    "            # give the hate and counter hate agents a certain amount of hate\n",
    "            \n",
    "            agents.append(agent)\n",
    "        elif i in counter_hate_agents:\n",
    "            agent = hateAgent(\n",
    "                agent_id=i,\n",
    "                neighbors={},\n",
    "                forcefulness=np.log(\n",
    "                    np.random.beta(params_dict[\"B1_START_FO\"], params_dict[\"B2_START_FO\"])\n",
    "                ),\n",
    "                share_propensity=np.log(\n",
    "                    np.random.beta(params_dict[\"B1_START_SP\"], params_dict[\"B2_START_SP\"])\n",
    "                ),\n",
    "                misinfo_belief=np.log(\n",
    "                    np.random.beta(params_dict[\"B1_START_MB\"], params_dict[\"B2_START_MB\"])\n",
    "                ),\n",
    "                trust_stability=np.log(\n",
    "                    np.random.beta(params_dict[\"B1_START_TS\"], params_dict[\"B2_START_TS\"])\n",
    "                ),\n",
    "                hatefulness=(\n",
    "                    np.random.uniform(params_dict[\"B1_START_Counter_Hatefulnes\"], params_dict[\"B2_START_Counter_Hatefulnes\"])\n",
    "                ),\n",
    "                hate_forcefulness = (\n",
    "                    np.random.uniform(params_dict[\"B1_START_Infectiousness_hate\"], params_dict[\"B2_START_Infectiousness_hate\"])\n",
    "                ),\n",
    "                counterhate_forcefulness = (\n",
    "                    np.random.uniform(params_dict[\"B1_START_Infectiousness_counter\"], params_dict[\"B2_START_Infectiousness_counter\"])\n",
    "                ),\n",
    "                hate_inhibited_forcefulness = (\n",
    "                    np.random.uniform(params_dict[\"B1_START_Infectiousness_hate_inhibited\"], params_dict[\"B2_START_Infectiousness_hate_inhibited\"])\n",
    "                ),\n",
    "                hate_orientation= choose_orientation(i, hate_agents,counter_hate_agents)\n",
    "            )\n",
    "            # give the hate and counter hate agents a certain amount of hate\n",
    "            \n",
    "            agents.append(agent)\n",
    "        else:\n",
    "            agent = hateAgent(\n",
    "                agent_id=i,\n",
    "                neighbors={},\n",
    "                forcefulness=np.log(\n",
    "                    np.random.beta(params_dict[\"B1_START_FO\"], params_dict[\"B2_START_FO\"])\n",
    "                ),\n",
    "                share_propensity=np.log(\n",
    "                    np.random.beta(params_dict[\"B1_START_SP\"], params_dict[\"B2_START_SP\"])\n",
    "                ),\n",
    "                misinfo_belief=np.log(\n",
    "                    np.random.beta(params_dict[\"B1_START_MB\"], params_dict[\"B2_START_MB\"])\n",
    "                ),\n",
    "                trust_stability=np.log(\n",
    "                    np.random.beta(params_dict[\"B1_START_TS\"], params_dict[\"B2_START_TS\"])\n",
    "                ),\n",
    "                hatefulness=(\n",
    "                    np.random.uniform(params_dict[\"B1_START_Hatefulness\"], params_dict[\"B2_START_Hatefulness\"])\n",
    "                ),\n",
    "                hate_forcefulness = (\n",
    "                    np.random.uniform(params_dict[\"B1_START_Infectiousness_hate\"], params_dict[\"B2_START_Infectiousness_hate\"])\n",
    "                ),\n",
    "                counterhate_forcefulness = (\n",
    "                    np.random.uniform(params_dict[\"B1_START_Infectiousness_counter\"], params_dict[\"B2_START_Infectiousness_counter\"])\n",
    "                ),\n",
    "                hate_inhibited_forcefulness = (\n",
    "                    np.random.uniform(params_dict[\"B1_START_Infectiousness_hate_inhibited\"], params_dict[\"B2_START_Infectiousness_hate_inhibited\"])\n",
    "                ),\n",
    "                hate_orientation= choose_orientation(i, hate_agents,counter_hate_agents)\n",
    "            )\n",
    "            # give the hate and counter hate agents a certain amount of hate\n",
    "            \n",
    "            agents.append(agent)\n",
    "\n",
    "    # G, agents = make_er_graph(0.05, N_AGENTS, agents)\n",
    "    G, agents = make_configuration_model_graph(N_AGENTS, 2.5, agents, params_dict)\n",
    "\n",
    "    centrality = sorted(\n",
    "        [(k, v) for k, v in nx.closeness_centrality(G).items()], key=lambda b: b[0]\n",
    "    )\n",
    "\n",
    "    centrality = np.array([c[1] for c in centrality]).reshape(-1, 1) # gets the centrality for each agent \n",
    "    agent_records = {a.agent_id: {} for a in agents} #creates the agent records\n",
    "    shares = {a.agent_id: {} for a in agents} #creates the number of shares in agent records\n",
    "    shares_hate = {a.agent_id: {} for a in agents} \n",
    "    hate_orientation_time = {a.agent_id: {} for a in agents} #creates the orientation time keeper \n",
    "    hatefulness_time = {a.agent_id: {} for a in agents} #creates the orientation time keeper \n",
    "\n",
    "    # from multiprocessing import Pool\n",
    "    # pool = Pool(8)\n",
    "\n",
    "    #records - everything\n",
    "    #agent info dict - just the most previous timestep \n",
    "    for time_step in range(250):\n",
    "        for agent in agents:\n",
    "            agent_records[agent.agent_id][time_step] = { #creates a dictionary in agent records where the agent id and time step record the trust, misinfo beleif and share propensity \n",
    "                \"neighbor_trust\": agent.neighbors,\n",
    "                \"misinfo_belief\": agent.misinfo_belief,\n",
    "                \"share_propensity\": agent.share_propensity,\n",
    "                \"hatefulness\": agent.hatefulness,\n",
    "                \"hate_forcefulness\": agent.hate_forcefulness,\n",
    "                \"counterhate_forcefulness\": agent.counterhate_forcefulness,\n",
    "                \"hate_inhibited_forcefulness\": agent.hate_inhibited_forcefulness\n",
    "            }\n",
    "\n",
    "\n",
    "\n",
    "        neighbor_beliefs = [ # gets the neighbor beliefs \n",
    "            [(i, agents[i].misinfo_belief) for i in agent.neighbors.keys()]\n",
    "            for agent in agents\n",
    "        ]\n",
    "        neighbor_beliefs_hate = [ # gets the neighbor beliefs \n",
    "            [(i, agents[i].hatefulness) for i in agent.neighbors.keys()]\n",
    "            for agent in agents\n",
    "        ]\n",
    "        neighbor_forcefulness = [\n",
    "            [agents[i].forcefulness for i in agent.neighbors.keys()] for agent in agents\n",
    "        ]\n",
    "        neighbor_orientation = [\n",
    "            [agents[i].hate_orientation for i in agent.neighbors.keys()] for agent in agents\n",
    "        ]\n",
    "        \n",
    "        # agent_info_dicts = [  #the most recent agent info, agent records goes all the way back \n",
    "        #     make_agent_info_dict(a, b, f, h, ho, hf, chf,hif, params_dict)\n",
    "        #     for a, b, f, h, ho, hf, chf, hif in zip(agents, neighbor_beliefs, neighbor_forcefulness,neighbor_beliefs_hate, neighbor_orientation, hate_forcefulness, counterhate_forcefulness, hate_inhibited_forcefulness )\n",
    "        # ]\n",
    "        agent_info_dicts = [  #the most recent agent info, agent records goes all the way back \n",
    "            make_agent_info_dict(a, b, f, h, ho,  params_dict)\n",
    "            for a, b, f, h, ho in zip(agents, neighbor_beliefs, neighbor_forcefulness,neighbor_beliefs_hate, neighbor_orientation)\n",
    "        ]\n",
    "        \n",
    "        res = map(update_agent_info, agent_info_dicts) # map means you apply the function to every item in agent info dicts \n",
    "        for r, agent in zip(res, agents): #r is the updated agent information \n",
    "            # so this updates all of the info for the agents, its a dictionary \n",
    "            agent.neighbors = r[\"neighbor_trust\"]\n",
    "            agent.misinfo_belief = r[\"misinfo_belief\"]\n",
    "            agent.share_propensity = r[\"share_propensity\"]\n",
    "            \n",
    "            shares[agent.agent_id][time_step] = r[\"shares\"]\n",
    "\n",
    "            #newstuff\n",
    "            shares_hate[agent.agent_id][time_step] = r[\"shares_hate\"] # to scrap \n",
    "            agent.hatefulness = r[\"hatefulness\"]\n",
    "\n",
    "            agent.hate_forcefulness = r[\"hate_forcefulness\"]\n",
    "            agent.counterhate_forcefulness = r[\"counterhate_forcefulness\"]\n",
    "            agent.hate_inhibited_forcefulness = r[\"hate_inhibited_forcefulness\"]\n",
    "            \n",
    "            agent.hate_orientation = r[\"hate_orientation\"]\n",
    "            hate_orientation_time[agent.agent_id][time_step] = r[\"hate_orientation\"]\n",
    "            hatefulness_time[agent.agent_id][time_step] = r[\"hatefulness\"]\n",
    "\n",
    "\n",
    "    return agents, shares, centrality, hate_orientation_time, hatefulness_time\n",
    "\n",
    "\n",
    "def p_x_y_hate(agents, hate_orientation_time, centrality, alpha):\n",
    "    \"\"\"\n",
    "    For a set of Bayesian agents at the end of a simulation,\n",
    "    plus their sharing results & centrality metrics, report \n",
    "    the loss of the dataset relative to reality\n",
    "    \n",
    "    (note that reality is currently somewhat made up)\n",
    "    alpha is a scaling parameter.\n",
    "    \n",
    "    Returns sum of loss fns, each raised to alpha then divided by alpha\n",
    "\n",
    "    to do add quanitative info \n",
    "    \"\"\"\n",
    "    loss = 0.0\n",
    "    # shared = [np.sum([v for v in shares_hate[a.agent_id].values()]) for a in agents]\n",
    "    # shared_by_id = [\n",
    "    #     (a.agent_id, np.sum([v for v in shares[a.agent_id].values()])) for a in agents\n",
    "    # ]\n",
    "    # shared_by_id = sorted(shared_by_id, key=lambda b: b[0])\n",
    "    # shared_by_id = [s[1] for s in shared_by_id]\n",
    "    # find correlation between sharing and centrality,\n",
    "    # with the assumption that more central nodes share more.\n",
    "    # we need to get a quantitative measurement for this.\n",
    "    \n",
    "    # in any spreading process we should expect that the spreading process is somewhat correlated with centrality \n",
    "    final_hatefulness = []\n",
    "    for i in range(100):\n",
    "        final_hatefulness.append(hate_orientation_time[i][249])\n",
    "    # hatefulness_by_id = [\n",
    "    #     (([final_hatefulness[a.agent_id]])) for a in agents\n",
    "    # ]\n",
    "    #final_hatefulness = np.asarray(hatefulness_by_id)\n",
    "\n",
    "    \n",
    "    \n",
    "    #find out how many agents there were by each type \n",
    "    number_counter = final_hatefulness.count(2)\n",
    "    percentage_counter = number_counter/len(agents)\n",
    "    percentage_counter_real = 0.3 #made this up for testing\n",
    "    loss += np.abs(percentage_counter - percentage_counter_real) ** alpha\n",
    "\n",
    "    number_hateful = final_hatefulness.count(1)\n",
    "    percentage_hatefulness = number_hateful/len(agents)\n",
    "    percentage_hatefulness_real =0.3 #made up for testing \n",
    "    loss += np.abs(percentage_hatefulness - percentage_hatefulness_real) ** alpha\n",
    "\n",
    "    # # find out how much misinfo was shared by the top 1% of misinfo sharers\n",
    "    # # using L1 loss here.\n",
    "    # shared_by_top_one_percent_model = np.sum(\n",
    "    #     sorted(shared)[-int(0.01 * len(shared)) :]\n",
    "    # ) / (1 + np.sum(shared))\n",
    "    # shared_by_top_one_percent_real = 0.8 # info from lazer lab twitter metrics\n",
    "    # loss += np.abs(shared_by_top_one_percent_model - shared_by_top_one_percent_real) ** alpha\n",
    "\n",
    "    # # find out how much sharing per capita occurred\n",
    "    # # again using L1 loss\n",
    "    # n_shared_per_capita_model = np.sum(shared) / len(agents)\n",
    "    # n_shared_per_capita_real = 1.0\n",
    "    # loss += np.abs(n_shared_per_capita_model - n_shared_per_capita_real) ** alpha\n",
    "    dataset = pd.DataFrame({'centrality': list(centrality), 'hatefulness': list(final_hatefulness)}, columns=['centrality', 'hatefulness'])\n",
    "    #print(dataset)\n",
    "    X = dataset['hatefulness']\n",
    "    Y = dataset['centrality']\n",
    "    show_dummy = dataset[['hatefulness']]\n",
    "    dummy_hate = pd.get_dummies(show_dummy['hatefulness'], prefix=\"hate\")\n",
    "    \n",
    "    \n",
    "    model = LinearRegression()\n",
    "    model.fit(dummy_hate,Y)\n",
    "    coeff_parameter = pd.DataFrame(model.coef_,dummy_hate.columns,columns=['Coefficient'])\n",
    "    \n",
    "    if len(model.coef_) == 3:\n",
    "        centrality_to_n_shared_model_hate = model.coef_[1]\n",
    "        centrality_to_n_shared_model_counter = model.coef_[2]\n",
    "        centrality_to_n_shared_real_hate = 0.05 # arbitrary guess\n",
    "        centrality_to_n_shared_real_counter = 0.05 # arbitrary guess\n",
    "        loss += np.abs(centrality_to_n_shared_model_hate  - centrality_to_n_shared_real_hate) ** alpha\n",
    "        loss += np.abs(centrality_to_n_shared_model_counter  - centrality_to_n_shared_real_counter) ** alpha\n",
    "    else:\n",
    "        loss = 0 \n",
    "    \n",
    "    return loss / alpha\n",
    "    \n",
    "    \n",
    "def G_func(my_ensemble_P, x):\n",
    "    \"\"\"\n",
    "    Get smoothed probability of a simulation outcome x\n",
    "    given my_ensemble_P, which is an ensemble of simulation outcomes\n",
    "    generated from the overall distribution.\n",
    "    \"\"\"\n",
    "    # make fancier later? right now assumes constant prior (the horror)\n",
    "    constant_proba = np.log(0.1) * 10 + np.log(0.01) * 2\n",
    "    candidates = [np.exp(constant_proba) for tup in my_ensemble_P if tup[1] <= x]\n",
    "    return np.sum(candidates)"
   ]
  },
  {
   "cell_type": "code",
   "execution_count": 6,
   "id": "6a5082cf",
   "metadata": {},
   "outputs": [
    {
     "name": "stdout",
     "output_type": "stream",
     "text": [
      "[]\n"
     ]
    },
    {
     "data": {
      "image/png": "[encoded data removed]",
      "text/plain": [
       "<Figure size 576x432 with 1 Axes>"
      ]
     },
     "metadata": {
      "needs_background": "light"
     },
     "output_type": "display_data"
    },
    {
     "data": {
      "image/png": "[encoded data removed]",
      "text/plain": [
       "<Figure size 576x432 with 1 Axes>"
      ]
     },
     "metadata": {
      "needs_background": "light"
     },
     "output_type": "display_data"
    }
   ],
   "source": [
    "params_dict = generate_params_dict()\n",
    "N_AGENTS = 100 \n",
    "agents, shares, centrality, hate_orientation_time, hatefulness_time = run_agent_simulation_now_with_added_hate(N_AGENTS, params_dict)\n",
    "def returnSum_1(dict):\n",
    "     # quick dictionary adder to get the infection curves of the hateful and counterhateful ppl\n",
    "    sum_1 = 0\n",
    "    sum_2 = 0 \n",
    "    for i in dict:\n",
    "        if dict[i] == 1:\n",
    "            sum_1 += 1\n",
    "        if dict[i] == 2:\n",
    "            sum_2 += 1\n",
    "      \n",
    "    return sum_1, sum_2\n",
    "\n",
    "\n",
    "#print(returnSum_1(hate_orientation_time))\n",
    "\n",
    "#print(hate_orientation_time)\n",
    "\n",
    "hateful_infection = []\n",
    "counter_hateful_infection = []\n",
    "# for num in range(N_AGENTS):  \n",
    "#     sum1, sum2 = returnSum_1(hate_orientation_time[num])\n",
    "#     hateful_infection.append(sum1)\n",
    "#     counter_hateful_infection.append(sum2)\n",
    "\n",
    "sum1 = 0\n",
    "sum2 = 0\n",
    "for num in range(250):  \n",
    "    for num2 in range(N_AGENTS):\n",
    "        if hate_orientation_time[num2][num] == 1:\n",
    "            sum1 += 1\n",
    "        if hate_orientation_time[num2][num] == 2:\n",
    "            sum2 += 1\n",
    "    \n",
    "    hateful_infection.append(sum1)\n",
    "    counter_hateful_infection.append(sum2)\n",
    "    sum1 = 0\n",
    "    sum2 = 0\n",
    "\n",
    "fig, ax = plt.subplots(figsize = (8,6))\n",
    "\n",
    "ax.plot( range(250), hateful_infection, label = \"hateful\", color = \"b\")\n",
    "ax.plot( range(250), counter_hateful_infection, label = \"counter_hateful\", color = \"r\")\n",
    "ax.legend()\n",
    "\n",
    "hateful_infection = []\n",
    "counter_hateful_infection = []\n",
    "hatefulness_time_dict = [ [] for a in range(N_AGENTS) ]\n",
    "\n",
    "sum1 = 0\n",
    "sum2 = 0\n",
    "for num in range(250):  \n",
    "    for num2 in range(N_AGENTS):\n",
    "        hatefulness_time_dict[num2].append(hatefulness_time[num2][num])\n",
    "\n",
    "\n",
    "\n",
    "fig, ax = plt.subplots(figsize = (8,6))\n",
    "for num in range(N_AGENTS):\n",
    "    ax.plot( range(250), hatefulness_time_dict[num], label = \"BA Graph\")\n",
    "\n",
    "print(hateful_infection)\n"
   ]
  },
  {
   "cell_type": "code",
   "execution_count": 9,
   "id": "2eb58071",
   "metadata": {},
   "outputs": [
    {
     "name": "stdout",
     "output_type": "stream",
     "text": [
      "goodnews\n",
      "goodnews\n",
      "goodnews\n",
      "goodnews\n",
      "goodnews\n",
      "5\n",
      "goodnews\n",
      "goodnews\n",
      "goodnews\n",
      "goodnews\n",
      "goodnews\n",
      "10\n",
      "goodnews\n",
      "goodnews\n",
      "goodnews\n",
      "goodnews\n",
      "goodnews\n",
      "15\n",
      "goodnews\n",
      "goodnews\n",
      "goodnews\n",
      "goodnews\n",
      "goodnews\n",
      "20\n",
      "20\n",
      "goodnews\n",
      "goodnews\n",
      "goodnews\n",
      "goodnews\n",
      "goodnews\n",
      "25\n",
      "25\n",
      "25\n",
      "goodnews\n",
      "goodnews\n",
      "goodnews\n",
      "goodnews\n",
      "goodnews\n",
      "30\n",
      "goodnews\n",
      "goodnews\n",
      "goodnews\n",
      "goodnews\n",
      "goodnews\n",
      "35\n",
      "35\n",
      "goodnews\n",
      "goodnews\n",
      "goodnews\n",
      "goodnews\n",
      "goodnews\n",
      "40\n",
      "goodnews\n",
      "goodnews\n",
      "goodnews\n",
      "goodnews\n",
      "goodnews\n",
      "45\n",
      "goodnews\n",
      "goodnews\n",
      "goodnews\n",
      "goodnews\n",
      "goodnews\n",
      "50\n",
      "goodnews\n",
      "goodnews\n",
      "goodnews\n",
      "goodnews\n",
      "goodnews\n",
      "55\n",
      "55\n",
      "goodnews\n",
      "goodnews\n",
      "goodnews\n",
      "goodnews\n",
      "goodnews\n",
      "60\n",
      "60\n",
      "goodnews\n",
      "goodnews\n",
      "goodnews\n",
      "goodnews\n",
      "goodnews\n",
      "65\n",
      "goodnews\n",
      "goodnews\n",
      "goodnews\n",
      "goodnews\n",
      "goodnews\n",
      "70\n",
      "70\n",
      "goodnews\n",
      "goodnews\n",
      "goodnews\n",
      "goodnews\n",
      "goodnews\n",
      "75\n",
      "75\n",
      "goodnews\n",
      "goodnews\n",
      "goodnews\n",
      "goodnews\n",
      "goodnews\n",
      "80\n",
      "80\n",
      "80\n",
      "80\n",
      "goodnews\n",
      "goodnews\n",
      "goodnews\n",
      "goodnews\n",
      "goodnews\n",
      "85\n",
      "85\n",
      "goodnews\n",
      "goodnews\n",
      "goodnews\n",
      "goodnews\n",
      "goodnews\n",
      "90\n",
      "goodnews\n",
      "goodnews\n",
      "goodnews\n",
      "goodnews\n",
      "goodnews\n",
      "95\n",
      "95\n",
      "95\n",
      "95\n",
      "goodnews\n",
      "goodnews\n",
      "goodnews\n",
      "goodnews\n",
      "goodnews\n"
     ]
    }
   ],
   "source": [
    "# setting up simulation. \n",
    "N_AGENTS = 100\n",
    "ALPHA = 2.5\n",
    "EPSILON_INIT = 0.4# originally 0.5\n",
    "#0.25 = 8.5 min\n",
    "rnd_info = []\n",
    "\n",
    "ensemble_P = []\n",
    "ensemble_E = []\n",
    "\n",
    "\"\"\"\n",
    "Robin notes\n",
    "\n",
    "sp threshold is the threshold an agent needs to have to share misinfo \n",
    "\"\"\"\n",
    "\n",
    "\n",
    "# burn-in period (kind of) - getting ensemble_E, \n",
    "# which is the fairly likely set of parameter -> outcome items.\n",
    "while len(ensemble_E) < 100:\n",
    "    if len(ensemble_E) % 5 == 0 and len(ensemble_E) != 0:\n",
    "        print(len(ensemble_E))\n",
    "        \n",
    "    params_dict = generate_params_dict()\n",
    "    agents, shares, centrality, hate_orientation_time, hatefulness_time = run_agent_simulation_now_with_added_hate(N_AGENTS, params_dict)\n",
    "    tup = (params_dict, p_x_y_hate(agents, hate_orientation_time, centrality, ALPHA))\n",
    "\n",
    "    proba_p = np.exp(-1.0 * tup[1]/ EPSILON_INIT)\n",
    "    #print(proba_p)\n",
    "    draw = np.random.uniform()\n",
    "    if draw < proba_p:\n",
    "        ensemble_E.append(tup)\n",
    "        # if it's a good draw compared to the overall \"background\" ensemble,\n",
    "        # we will likely add it to ensemble_E. \n",
    "        print(\"goodnews\")\n",
    "    ensemble_P.append(tup)\n",
    "    #print(len(ensemble_E))\n",
    "    \n"
   ]
  },
  {
   "cell_type": "code",
   "execution_count": 72,
   "id": "d678b8b0",
   "metadata": {},
   "outputs": [
    {
     "name": "stdout",
     "output_type": "stream",
     "text": [
      "0.4\n"
     ]
    }
   ],
   "source": [
    "# smoothed probabilities for items in ensemble_P\n",
    "G_result = [G_func(ensemble_P, tup[1]) for tup in ensemble_P]\n",
    "# the starting \"good\" ensemble of predictions\n",
    "ensemble_E = [(tup[0], G_func(ensemble_P, tup[1])) for tup in ensemble_E]\n",
    "U = np.mean(G_result)\n",
    "\n",
    "EPSILON = EPSILON_INIT\n",
    "t = 1\n",
    "swap_rate = 0\n",
    "tries = 0 \n",
    "while True:\n",
    "    # we choose a random item in ensemble_E \n",
    "    # and generate a new set of parameters & its simulation outcome.\n",
    "    # if our new item is better than the item in ensemble E,\n",
    "    # we swap the old item with the new item w/ high probability.\n",
    "    chosen_one = random.choice([i for i in range(len(ensemble_E))])   \n",
    "    particle, u = ensemble_E[chosen_one] # u is the goodness of fit, and particle is a dictionary of simulation settings \n",
    "    proposal = generate_params_dict()\n",
    "    agents, shares, centrality, hate_orientation_time, hatefulness_time = run_agent_simulation_now_with_added_hate(N_AGENTS, params_dict)\n",
    "    proba_star = p_x_y_hate(agents, hate_orientation_time, centrality, ALPHA)\n",
    "    u_star = G_func(ensemble_P, proba_star)\n",
    "    \n",
    "    proba_swap = min(1.0, np.exp(-1.0 * (u_star - u)) / np.exp(EPSILON))\n",
    "    tries += 1\n",
    "    if np.random.uniform() < proba_swap:\n",
    "        swap_rate += 1\n",
    "        ensemble_E[chosen_one] = (proposal, u_star)\n",
    "\n",
    "    EPSILON = t ** (0.1)\n",
    "    # we keep doing this until our continuous swap rate\n",
    "    # drops below a threshold (0.05) - in that case, \n",
    "    # we're rejecting most items so we should give up.\n",
    "    if t % 10 == 0:\n",
    "        print(swap_rate / tries)\n",
    "    if t % 1000 == 0:\n",
    "        # dumps items to file for future analysis.\n",
    "        pickle.dump(ensemble_E, open('ensemble_E_{}.pkl'.format(str(t)), 'wb')) ### keep this!!! \n",
    "        #change the place that the pickle dumps to!!!! \n",
    "    t += 1\n",
    "    if (swap_rate / tries) < 0.05 and tries > 20:\n",
    "        break\n",
    "\n",
    "\n",
    "# look for it to decrease slowly and if it increases or decreases fast that is a problem \n",
    "#the more we are swapping out, then more it means that our ensemble wasnt very good \n",
    "# so if its replacing a lot that means our ensemble is bad/ suspicious "
   ]
  },
  {
   "cell_type": "code",
   "execution_count": 8,
   "id": "40144c86",
   "metadata": {},
   "outputs": [
    {
     "name": "stdout",
     "output_type": "stream",
     "text": [
      "dict_keys(['B1_NTRUST', 'B2_NTRUST', 'B1_START_MB', 'B2_START_MB', 'B1_START_FO', 'B2_START_FO', 'B1_START_SP', 'B2_START_SP', 'B1_START_TS', 'B2_START_TS', 'NTRUST_THRESHOLD', 'SP_THRESHOLD', 'B1_START_Hatefulness', 'B2_START_Hatefulness', 'B1_START_Hate_Hatefulnes', 'B2_START_Hate_Hatefulnes', 'B1_START_Counter_Hatefulnes', 'B2_START_Counter_Hatefulnes', 'hate_agents', 'counter_hate_agents'])\n"
     ]
    },
    {
     "data": {
      "image/png": "[encoded data removed]",
      "text/plain": [
       "<Figure size 432x288 with 2 Axes>"
      ]
     },
     "metadata": {
      "needs_background": "light"
     },
     "output_type": "display_data"
    }
   ],
   "source": [
    "# just some visualizations down here.\n",
    "import numpy as np\n",
    "import collections\n",
    "import seaborn as sns\n",
    "ensemble_Ee = pickle.load(open('ensemble_E_180000.pkl', 'rb')) # latest param set\n",
    "print(ensemble_Ee[0][0].keys())\n",
    "\n",
    "spt_th = collections.Counter([str(e[0]['B1_START_SP']) + '_' + str(e[0]['B2_START_SP']) for e in ensemble_Ee])\n",
    "a = np.zeros((11, 11))\n",
    "b = np.zeros((11, 11))\n",
    "c = np.zeros((11, 11))\n",
    "for i in range(11):\n",
    "    for j in range(11):\n",
    "        a[i, j] = spt_th[str(i) + '_' + str(j)] \n",
    "        b[i, j] = np.sum([e[1]  for e in ensemble_Ee if e[0]['B1_START_SP'] == i and e[0]['B2_START_SP'] == j])\n",
    "        c[i, j] = a[i, j] * b[i, j]\n",
    "plt.title('distribution on start beta params, individual share propensity')\n",
    "ax = sns.heatmap(c, linewidth=0.5)\n",
    "plt.show()"
   ]
  },
  {
   "cell_type": "code",
   "execution_count": 9,
   "id": "d38e60c8",
   "metadata": {},
   "outputs": [
    {
     "name": "stdout",
     "output_type": "stream",
     "text": [
      "dict_keys(['B1_NTRUST', 'B2_NTRUST', 'B1_START_MB', 'B2_START_MB', 'B1_START_FO', 'B2_START_FO', 'B1_START_SP', 'B2_START_SP', 'B1_START_TS', 'B2_START_TS', 'NTRUST_THRESHOLD', 'SP_THRESHOLD', 'B1_START_Hatefulness', 'B2_START_Hatefulness', 'B1_START_Hate_Hatefulnes', 'B2_START_Hate_Hatefulnes', 'B1_START_Counter_Hatefulnes', 'B2_START_Counter_Hatefulnes', 'hate_agents', 'counter_hate_agents'])\n"
     ]
    },
    {
     "data": {
      "image/png": "[encoded data removed]",
      "text/plain": [
       "<Figure size 432x288 with 2 Axes>"
      ]
     },
     "metadata": {
      "needs_background": "light"
     },
     "output_type": "display_data"
    }
   ],
   "source": [
    "import numpy as np\n",
    "import collections\n",
    "import seaborn as sns\n",
    "ensemble_Ee = pickle.load(open('ensemble_E_180000.pkl', 'rb'))\n",
    "print(ensemble_Ee[0][0].keys())\n",
    "spt_th = collections.Counter([str(e[0]['B1_START_Hatefulness']) + '_' + str(e[0]['B2_START_Hatefulness']) for e in ensemble_Ee])\n",
    "a = np.zeros((11, 11))\n",
    "b = np.zeros((11, 11))\n",
    "c = np.zeros((11, 11))\n",
    "for i in range(11):\n",
    "    for j in range(11):\n",
    "        a[i, j] = spt_th[str(i) + '_' + str(j)] \n",
    "        b[i, j] = np.sum([e[1]  for e in ensemble_Ee if e[0]['B1_START_Hatefulness'] == i and e[0]['B2_START_Hatefulness'] == j])\n",
    "        c[i, j] = a[i, j] * b[i, j]\n",
    "plt.title('distribution on start beta params, starting hatefulness')\n",
    "ax = sns.heatmap(c, linewidth=0.5)\n",
    "plt.show()"
   ]
  },
  {
   "cell_type": "code",
   "execution_count": 4,
   "id": "552c086f",
   "metadata": {},
   "outputs": [
    {
     "name": "stdout",
     "output_type": "stream",
     "text": [
      "dict_keys(['B1_NTRUST', 'B2_NTRUST', 'B1_START_MB', 'B2_START_MB', 'B1_START_FO', 'B2_START_FO', 'B1_START_SP', 'B2_START_SP', 'B1_START_TS', 'B2_START_TS', 'NTRUST_THRESHOLD', 'SP_THRESHOLD', 'B1_START_Hatefulness', 'B2_START_Hatefulness', 'B1_START_Hate_Hatefulnes', 'B2_START_Hate_Hatefulnes', 'B1_START_Counter_Hatefulnes', 'B2_START_Counter_Hatefulnes', 'hate_agents', 'counter_hate_agents'])\n"
     ]
    },
    {
     "data": {
      "image/png": "[encoded data removed]",
      "text/plain": [
       "<Figure size 432x288 with 2 Axes>"
      ]
     },
     "metadata": {
      "needs_background": "light"
     },
     "output_type": "display_data"
    }
   ],
   "source": [
    "import numpy as np\n",
    "import collections\n",
    "import seaborn as sns\n",
    "ensemble_Ee = pickle.load(open('ensemble_E_180000.pkl', 'rb'))\n",
    "print(ensemble_Ee[0][0].keys())\n",
    "spt_th = collections.Counter([str(e[0]['B1_START_Counter_Hatefulnes']) + '_' + str(e[0]['B2_START_Counter_Hatefulnes']) for e in ensemble_Ee])\n",
    "a = np.zeros((11, 11))\n",
    "b = np.zeros((11, 11))\n",
    "c = np.zeros((11, 11))\n",
    "for i in range(11):\n",
    "    for j in range(11):\n",
    "        a[i, j] = spt_th[str(i) + '_' + str(j)] \n",
    "        b[i, j] = np.sum([e[1]  for e in ensemble_Ee if e[0]['B1_START_Counter_Hatefulnes'] == i and e[0]['B2_START_Counter_Hatefulnes'] == j])\n",
    "        c[i, j] = a[i, j] * b[i, j]\n",
    "plt.title('distribution on start beta params, counter hatefulness')\n",
    "ax = sns.heatmap(c, linewidth=0.5)\n",
    "plt.show()"
   ]
  },
  {
   "cell_type": "code",
   "execution_count": 161,
   "id": "11294fcd",
   "metadata": {},
   "outputs": [
    {
     "name": "stdout",
     "output_type": "stream",
     "text": [
      "dict_keys(['B1_NTRUST', 'B2_NTRUST', 'B1_START_MB', 'B2_START_MB', 'B1_START_FO', 'B2_START_FO', 'B1_START_SP', 'B2_START_SP', 'B1_START_TS', 'B2_START_TS', 'NTRUST_THRESHOLD', 'SP_THRESHOLD'])\n"
     ]
    },
    {
     "data": {
      "image/png": "[encoded data removed]",
      "text/plain": [
       "<Figure size 432x288 with 2 Axes>"
      ]
     },
     "metadata": {
      "needs_background": "light"
     },
     "output_type": "display_data"
    }
   ],
   "source": [
    "import numpy as np\n",
    "import collections\n",
    "import seaborn as sns\n",
    "ensemble_Ee = pickle.load(open('ensemble_E_42900.pkl', 'rb'))\n",
    "print(ensemble_Ee[0][0].keys())\n",
    "spt_th = collections.Counter([str(e[0]['B1_NTRUST']) + '_' + str(e[0]['B2_NTRUST']) for e in ensemble_Ee])\n",
    "a = np.zeros((11, 11))\n",
    "b = np.zeros((11, 11))\n",
    "c = np.zeros((11, 11))\n",
    "for i in range(11):\n",
    "    for j in range(11):\n",
    "        a[i, j] = spt_th[str(i) + '_' + str(j)] \n",
    "        b[i, j] = np.sum([e[1]  for e in ensemble_Ee if e[0]['B1_NTRUST'] == i and e[0]['B2_NTRUST'] == j])\n",
    "        c[i, j] = a[i, j] * b[i, j]\n",
    "plt.title('distribution on start beta params, individual neighbor trust')\n",
    "ax = sns.heatmap(c, linewidth=0.5)\n",
    "plt.show()"
   ]
  },
  {
   "cell_type": "code",
   "execution_count": 153,
   "id": "9def6f68",
   "metadata": {},
   "outputs": [
    {
     "data": {
      "text/plain": [
       "(array([26., 18., 19., 20., 22., 19., 15., 21., 18., 22.]),\n",
       " array([0.01547743, 0.11323817, 0.21099891, 0.30875964, 0.40652038,\n",
       "        0.50428112, 0.60204185, 0.69980259, 0.79756333, 0.89532407,\n",
       "        0.9930848 ]),\n",
       " <BarContainer object of 10 artists>)"
      ]
     },
     "execution_count": 153,
     "metadata": {},
     "output_type": "execute_result"
    },
    {
     "data": {
      "image/png": "[encoded data removed]",
      "text/plain": [
       "<Figure size 432x288 with 1 Axes>"
      ]
     },
     "metadata": {
      "needs_background": "light"
     },
     "output_type": "display_data"
    }
   ],
   "source": []
  },
  {
   "cell_type": "code",
   "execution_count": 4,
   "id": "20b1f789",
   "metadata": {},
   "outputs": [],
   "source": [
    "import scipy.stats\n",
    "lower = 0\n",
    "upper = 1\n",
    "mu = 0.5\n",
    "sigma = 0.1\n",
    "N = 100000\n",
    "\n",
    "def truncated_normal():\n",
    "    return scipy.stats.truncnorm.rvs(\n",
    "          (lower-mu)/sigma,(upper-mu)/sigma,loc=mu,scale=sigma)"
   ]
  },
  {
   "cell_type": "code",
   "execution_count": 46,
   "id": "75151811",
   "metadata": {},
   "outputs": [
    {
     "data": {
      "text/plain": [
       "{'B1_NTRUST': 4,\n",
       " 'B2_NTRUST': 8,\n",
       " 'B1_START_MB': 5,\n",
       " 'B2_START_MB': 2,\n",
       " 'B1_START_FO': 10,\n",
       " 'B2_START_FO': 10,\n",
       " 'B1_START_SP': 3,\n",
       " 'B2_START_SP': 5,\n",
       " 'B1_START_TS': 10,\n",
       " 'B2_START_TS': 9,\n",
       " 'NTRUST_THRESHOLD': 0.41937188649018664,\n",
       " 'SP_THRESHOLD': 0.46966543126877486}"
      ]
     },
     "execution_count": 46,
     "metadata": {},
     "output_type": "execute_result"
    }
   ],
   "source": [
    "%matplotlib inline\n",
    "import matplotlib.pyplot as plt\n",
    "import pickle\n",
    "\n",
    "d = pickle.load(open('rnd_info_30.pkl', 'rb'))\n",
    "d[0]['params_dict']"
   ]
  },
  {
   "cell_type": "code",
   "execution_count": 101,
   "id": "0d737ec1",
   "metadata": {},
   "outputs": [
    {
     "data": {
      "image/png": "[encoded data removed]",
      "text/plain": [
       "<Figure size 432x288 with 2 Axes>"
      ]
     },
     "metadata": {
      "needs_background": "light"
     },
     "output_type": "display_data"
    }
   ],
   "source": [
    "import numpy as np\n",
    "import collections\n",
    "import seaborn as sns\n",
    "d = pickle.load(open('rnd_info_410.pkl', 'rb'))\n",
    "spt_th = collections.Counter([str(dd['params_dict']['B1_START_MB']) + '_' + str(dd['params_dict']['B2_START_MB']) for dd in d])\n",
    "a = np.zeros((11, 11))\n",
    "for i in range(11):\n",
    "    for j in range(11):\n",
    "        a[i - 1, j - 1] = spt_th[str(i) + '_' + str(j)] \n",
    "ax = sns.heatmap(a, linewidth=0.5)\n",
    "plt.show()\n"
   ]
  },
  {
   "cell_type": "code",
   "execution_count": 113,
   "id": "33ce8f2b",
   "metadata": {},
   "outputs": [
    {
     "data": {
      "text/plain": [
       "<matplotlib.collections.PathCollection at 0x7f611a8cd340>"
      ]
     },
     "execution_count": 113,
     "metadata": {},
     "output_type": "execute_result"
    },
    {
     "data": {
      "image/png": "[encoded data removed]",
      "text/plain": [
       "<Figure size 432x288 with 1 Axes>"
      ]
     },
     "metadata": {
      "needs_background": "light"
     },
     "output_type": "display_data"
    }
   ],
   "source": [
    "import scipy\n",
    "xs = [0.01 * i for i in range(100)]\n",
    "ys = scipy.stats.beta(6, 10).pdf(xs)\n",
    "plt.scatter(xs, ys)"
   ]
  },
  {
   "cell_type": "code",
   "execution_count": 54,
   "id": "ff408a73",
   "metadata": {},
   "outputs": [
    {
     "data": {
      "image/png": "[encoded data removed]",
      "text/plain": [
       "<Figure size 432x288 with 1 Axes>"
      ]
     },
     "metadata": {
      "needs_background": "light"
     },
     "output_type": "display_data"
    }
   ],
   "source": [
    "d = pickle.load(open('rnd_info_30.pkl', 'rb'))\n",
    "spt = [dd['params_dict']['SP_THRESHOLD'] for dd in d]\n",
    "plt.hist(spt)\n",
    "plt.show()"
   ]
  },
  {
   "cell_type": "code",
   "execution_count": 100,
   "id": "ea04eeaf",
   "metadata": {},
   "outputs": [
    {
     "data": {
      "image/png": "[encoded data removed]",
      "text/plain": [
       "<Figure size 432x288 with 1 Axes>"
      ]
     },
     "metadata": {
      "needs_background": "light"
     },
     "output_type": "display_data"
    }
   ],
   "source": [
    "d = pickle.load(open('rnd_info_410.pkl', 'rb'))\n",
    "spt = [dd['params_dict']['SP_THRESHOLD'] for dd in d]\n",
    "plt.hist(spt)\n",
    "plt.show()"
   ]
  },
  {
   "cell_type": "code",
   "execution_count": null,
   "id": "2446a3a1",
   "metadata": {},
   "outputs": [],
   "source": []
  }
 ],
 "metadata": {
  "kernelspec": {
   "display_name": "Python 3 (ipykernel)",
   "language": "python",
   "name": "python3"
  },
  "language_info": {
   "codemirror_mode": {
    "name": "ipython",
    "version": 3
   },
   "file_extension": ".py",
   "mimetype": "text/x-python",
   "name": "python",
   "nbconvert_exporter": "python",
   "pygments_lexer": "ipython3",
   "version": "3.8.3"
  }
 },
 "nbformat": 4,
 "nbformat_minor": 5
}
